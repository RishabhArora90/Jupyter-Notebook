{
 "cells": [
  {
   "cell_type": "code",
   "execution_count": 3,
   "metadata": {},
   "outputs": [
    {
     "name": "stdout",
     "output_type": "stream",
     "text": [
      "My age is 28 years\n"
     ]
    }
   ],
   "source": [
    "#Replacement methods in string\n",
    "print(\"My age is {0} years\".format(28))"
   ]
  },
  {
   "cell_type": "code",
   "execution_count": 5,
   "metadata": {},
   "outputs": [
    {
     "name": "stdout",
     "output_type": "stream",
     "text": [
      "There are 31 days in January, March, May, July, August, October, December\n"
     ]
    }
   ],
   "source": [
    "print(\"There are {0} days in {1}, {2}, {3}, {4}, {5}, {6}, {7}\".format(31, \"January\", \"March\",\"May\", \"July\", \"August\", \"October\", \"December\" ) )"
   ]
  },
  {
   "cell_type": "code",
   "execution_count": 9,
   "metadata": {},
   "outputs": [
    {
     "name": "stdout",
     "output_type": "stream",
     "text": [
      "My age is 24 years\n",
      "My name is Rishabh and I have been working for past 4 years\n"
     ]
    }
   ],
   "source": [
    "# %d is used to notify interger variable\n",
    "age=24\n",
    "print(\"My age is %d years\"%age)\n",
    "\n",
    "# %s stands for string\n",
    "print(\"My name is %s and I have been working for past %d years\"%(\"Rishabh\" ,4))"
   ]
  },
  {
   "cell_type": "code",
   "execution_count": 15,
   "metadata": {},
   "outputs": [
    {
     "name": "stdout",
     "output_type": "stream",
     "text": [
      "Number  1 squared is    1 and cubed is    1 \n",
      "Number  2 squared is    4 and cubed is    8 \n",
      "Number  3 squared is    9 and cubed is   27 \n",
      "Number  4 squared is   16 and cubed is   64 \n",
      "Number  5 squared is   25 and cubed is  125 \n",
      "Number  6 squared is   36 and cubed is  216 \n",
      "Number  7 squared is   49 and cubed is  343 \n",
      "Number  8 squared is   64 and cubed is  512 \n",
      "Number  9 squared is   81 and cubed is  729 \n",
      "Number 10 squared is  100 and cubed is 1000 \n",
      "Number 11 squared is  121 and cubed is 1331 \n",
      "The value of pi is approximately 3.142857\n",
      "Number  1 squared is    1 and cubed is    1 \n",
      "Number  2 squared is    4 and cubed is    8 \n",
      "Number  3 squared is    9 and cubed is   27 \n",
      "Number  4 squared is   16 and cubed is   64 \n",
      "Number  5 squared is   25 and cubed is  125 \n",
      "Number  6 squared is   36 and cubed is  216 \n",
      "Number  7 squared is   49 and cubed is  343 \n",
      "Number  8 squared is   64 and cubed is  512 \n",
      "Number  9 squared is   81 and cubed is  729 \n",
      "Number 10 squared is  100 and cubed is 1000 \n",
      "Number 11 squared is  121 and cubed is 1331 \n",
      "The value of pi is approximately 3.1428571428571427937015414499910548329353332519531\n"
     ]
    }
   ],
   "source": [
    "# 2d implies to store 2 digit space for interger variable. Similarly 4d is to store 4 digits\n",
    "for i in range(1,12):\n",
    "    print(\"Number %2d squared is %4d and cubed is %4d \"%(i, i**2, i**3))\n",
    "print(\"The value of pi is approximately %f\" %(22/7))\n",
    "\n",
    "# with replacement method\n",
    "for i in range(1,12):\n",
    "#{0:2} => 0 implies the first location from format and 2 refers to the width i.e. 2 digit\n",
    "    print(\"Number {0:2} squared is {1:4} and cubed is {2:4} \".format(i, i**2, i**3))\n",
    "#{0:2} => 0 implies the first location from format and 12.50 refers to the width i.e. 12 integer part digits and 50 for decimal\n",
    "print(\"The value of pi is approximately {0:12.50}\".format(22/7))"
   ]
  },
  {
   "cell_type": "code",
   "execution_count": 33,
   "metadata": {},
   "outputs": [
    {
     "name": "stdout",
     "output_type": "stream",
     "text": [
      "Marks scored in 5 tests over the past 2 months \n",
      "\n",
      "Test 1: 17\n",
      "Test 2: 18\n",
      "Test 3: 20\n",
      "Test 4: 18\n",
      "Test 5: 17\n"
     ]
    }
   ],
   "source": [
    "# while using replacement method its not necessarily to use location in increasing order\n",
    "print(\"Marks scored in 5 tests over the past 2 months\",'\\n')\n",
    "print(\"Test 1: {2}\\nTest 2: {0}\\nTest 3: {1}\\nTest 4: {0}\\nTest 5: {2}\".format(18,20,17))"
   ]
  },
  {
   "cell_type": "code",
   "execution_count": 37,
   "metadata": {},
   "outputs": [
    {
     "name": "stdout",
     "output_type": "stream",
     "text": [
      "Number 1 squared is 1 and cubed is    1 \n",
      "Number 2 squared is 4 and cubed is    8 \n",
      "Number 3 squared is 9 and cubed is   27 \n",
      "Number 4 squared is 16 and cubed is   64 \n",
      "Number 5 squared is 25 and cubed is  125 \n",
      "Number 6 squared is 36 and cubed is  216 \n",
      "Number 7 squared is 49 and cubed is  343 \n",
      "Number 8 squared is 64 and cubed is  512 \n",
      "Number 9 squared is 81 and cubed is  729 \n",
      "Number 10 squared is 100 and cubed is 1000 \n",
      "Number 11 squared is 121 and cubed is 1331 \n"
     ]
    }
   ],
   "source": [
    "# When no number / position is mentioned, by default starts from 0\n",
    "for i in range(1,12):\n",
    "    print(\"Number {} squared is {} and cubed is {:4} \".format(i, i**2, i**3))"
   ]
  },
  {
   "cell_type": "code",
   "execution_count": 45,
   "metadata": {},
   "outputs": [
    {
     "name": "stdout",
     "output_type": "stream",
     "text": [
      "Please enter your nameJohn\n",
      "How old are you John22\n",
      "22\n",
      "Allowed to vote\n",
      " enter age 34\n",
      "old enough to vote\n"
     ]
    }
   ],
   "source": [
    "name=input(\"Please enter your name\")\n",
    "age=int(input(\"How old are you {0}\".format(name)))\n",
    "#in the above statement , while asking user input make sure give 'int' since its age because if one wants to perform some test \n",
    "# it will treat as mix of strings and number and thus will give error\n",
    "print(age)\n",
    "if (age>=18):\n",
    "    print(\"Allowed to vote\")\n",
    "else:\n",
    "    print(\"Not allowed to vote\")\n",
    "    \n",
    "# another way - using not \n",
    "age=int(input( \" enter age \"))\n",
    "if not(age<18):\n",
    "    print(\"old enough to vote\")\n",
    "else:\n",
    "    print(\" can't vote\")"
   ]
  },
  {
   "cell_type": "code",
   "execution_count": 44,
   "metadata": {},
   "outputs": [],
   "source": [
    "num=4\n",
    "if num>=10 and num<=20:\n",
    "    print(\"Number is between 10 and 20\")\n",
    "\n",
    "# another way of using 9<age<21\n",
    "# Since the condition is not met, it does not print anything \n",
    "# to use or - if(age>10) or (age<20)\n"
   ]
  },
  {
   "cell_type": "code",
   "execution_count": 47,
   "metadata": {},
   "outputs": [
    {
     "name": "stdout",
     "output_type": "stream",
     "text": [
      "enter one letterh\n",
      " letter h exists in the name of the bird\n"
     ]
    }
   ],
   "source": [
    "bird= \"Nightingale\"\n",
    "letter= input(\"enter one letter\")\n",
    "if letter in bird:\n",
    "    print(\" letter {} exists in the name of the bird\".format(letter))\n",
    "else:\n",
    "    print(\" letter doesn't exist\")"
   ]
  },
  {
   "cell_type": "code",
   "execution_count": 53,
   "metadata": {},
   "outputs": [
    {
     "name": "stdout",
     "output_type": "stream",
     "text": [
      "H\n",
      "o\n",
      "w\n",
      " \n",
      "a\n",
      "r\n",
      "e\n",
      " \n",
      "y\n",
      "o\n",
      "u\n",
      "?\n"
     ]
    }
   ],
   "source": [
    "string=\"How are you?\"\n",
    "for i in range(0 , len(string)):\n",
    "    print(string[i])"
   ]
  },
  {
   "cell_type": "code",
   "execution_count": 56,
   "metadata": {},
   "outputs": [
    {
     "name": "stdout",
     "output_type": "stream",
     "text": [
      "3,1,2,8,"
     ]
    }
   ],
   "source": [
    "# to print only number from a string\n",
    "line=\" January has 31 days and February has 28 days\"\n",
    "for i in range(0, len(line)):\n",
    "    if line[i] in \"0123456789\":\n",
    "        print(line[i], end=\",\")\n",
    "# by default end argument takes \\n \n",
    "        "
   ]
  },
  {
   "cell_type": "code",
   "execution_count": null,
   "metadata": {},
   "outputs": [],
   "source": []
  }
 ],
 "metadata": {
  "kernelspec": {
   "display_name": "Python 3",
   "language": "python",
   "name": "python3"
  },
  "language_info": {
   "codemirror_mode": {
    "name": "ipython",
    "version": 3
   },
   "file_extension": ".py",
   "mimetype": "text/x-python",
   "name": "python",
   "nbconvert_exporter": "python",
   "pygments_lexer": "ipython3",
   "version": "3.7.0"
  }
 },
 "nbformat": 4,
 "nbformat_minor": 2
}
