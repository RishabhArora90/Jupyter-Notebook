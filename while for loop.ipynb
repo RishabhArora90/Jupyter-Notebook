{
 "cells": [
  {
   "cell_type": "code",
   "execution_count": null,
   "metadata": {},
   "outputs": [],
   "source": [
    "n=eval(input(\"enter number\"))\n",
    "if n>10:\n",
    "    print(\"greater\", end=' ')\n",
    "    print(\"bigger\")\n",
    "else:\n",
    "    print(\"smaller\")"
   ]
  },
  {
   "cell_type": "code",
   "execution_count": null,
   "metadata": {},
   "outputs": [],
   "source": [
    "for n in range(1,3)\n",
    " for i in range(1,)\n",
    "    print(i, end= ' ')"
   ]
  },
  {
   "cell_type": "code",
   "execution_count": null,
   "metadata": {},
   "outputs": [],
   "source": [
    "for n in range(1,4):\n",
    " for i in range(1,4):\n",
    "    print(i, end= ' ')"
   ]
  },
  {
   "cell_type": "code",
   "execution_count": null,
   "metadata": {},
   "outputs": [],
   "source": [
    "sum=0\n",
    "\n",
    "while num>=0:\n",
    "    num=eval(input(\"enter number \"))\n",
    "    if sum>=100:\n",
    "        break\n",
    "    sum+=num \n",
    "print(sum)"
   ]
  },
  {
   "cell_type": "code",
   "execution_count": null,
   "metadata": {},
   "outputs": [],
   "source": [
    "sum=0\n",
    "num=1\n",
    "while num>=0:\n",
    "      num=eval(input(\"enter number \"))\n",
    "      if sum>=100:\n",
    "           break\n",
    "      sum+=num \n",
    "print(sum)"
   ]
  },
  {
   "cell_type": "code",
   "execution_count": null,
   "metadata": {},
   "outputs": [],
   "source": [
    "height=eval(input(\"enter the height of tree\"))\n",
    "for row in range(1, height+1):\n",
    "     for column in range(1, height+1):\n",
    "          if column<=row+4:\n",
    "              print(\"*\", end=' ')\n",
    "     print('\\n')"
   ]
  },
  {
   "cell_type": "code",
   "execution_count": null,
   "metadata": {},
   "outputs": [],
   "source": [
    "# to run code to see if the number is prime \n",
    "num=eval(input\"enter the number\")\n",
    "even=2\n"
   ]
  },
  {
   "cell_type": "code",
   "execution_count": null,
   "metadata": {},
   "outputs": [],
   "source": [
    "from math import sqrt \n",
    "num=eval(input(\"enter the number\"))\n",
    "root= sqrt(num)\n",
    "print(root)"
   ]
  },
  {
   "cell_type": "code",
   "execution_count": null,
   "metadata": {},
   "outputs": [],
   "source": []
  }
 ],
 "metadata": {
  "kernelspec": {
   "display_name": "Python 3",
   "language": "python",
   "name": "python3"
  },
  "language_info": {
   "codemirror_mode": {
    "name": "ipython",
    "version": 3
   },
   "file_extension": ".py",
   "mimetype": "text/x-python",
   "name": "python",
   "nbconvert_exporter": "python",
   "pygments_lexer": "ipython3",
   "version": "3.7.0"
  }
 },
 "nbformat": 4,
 "nbformat_minor": 2
}
