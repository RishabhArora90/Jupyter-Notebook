{
 "cells": [
  {
   "cell_type": "code",
   "execution_count": 47,
   "metadata": {},
   "outputs": [],
   "source": [
    "from random import randrange\n",
    "from math import *\n",
    "def listing():\n",
    "    result=[]\n",
    "    count=10\n",
    "    for i in range(1, count+1):\n",
    "        result+=[randrange(-10,50)]\n",
    "    return result\n",
    "        \n",
    "def sort(lst):\n",
    "    n=len(lst)\n",
    "    i=0\n",
    "    for i in range(n-1):\n",
    "        small=i\n",
    "        for j in range(i+1, n):\n",
    "            if lst[j]<lst[i]:\n",
    "                small=j\n",
    "            if i!=small:\n",
    "                lst[i],lst[small]=lst[small],lst[i]\n",
    "    \n",
    "def main():\n",
    "    list_test=listing()\n",
    "    sort(list_test)\n",
    "    \n",
    "main()\n"
   ]
  },
  {
   "cell_type": "code",
   "execution_count": 48,
   "metadata": {},
   "outputs": [],
   "source": [
    "from random import randrange\n",
    "from math import *\n",
    "def listing():\n",
    "    result=[]\n",
    "    count=10\n",
    "    for i in range(1, count+1):\n",
    "        result+=[randrange(-10,50)]\n",
    "    return result\n",
    "        \n",
    "def sort(lst):\n",
    "    n=len(lst)\n",
    "    i=0\n",
    "    for i in range(n-1):\n",
    "        small=i\n",
    "        for j in range(i+1, n):\n",
    "            if lst[j]<lst[i]:\n",
    "                small=j\n",
    "            if i!=small:\n",
    "                lst[i],lst[small]=lst[small],lst[i]\n",
    "    \n",
    "def main():\n",
    "    list_test=listing()\n",
    "    sort(list_test)\n",
    "    \n",
    "main()\n",
    "\n"
   ]
  },
  {
   "cell_type": "code",
   "execution_count": 50,
   "metadata": {},
   "outputs": [
    {
     "name": "stdout",
     "output_type": "stream",
     "text": [
      "%4d 5\n"
     ]
    }
   ],
   "source": [
    "n=5\n",
    "if n>9999:\n",
    "    print(\"big\")\n",
    "else:\n",
    "    print(\"%4d\" , n)"
   ]
  },
  {
   "cell_type": "code",
   "execution_count": 53,
   "metadata": {},
   "outputs": [
    {
     "data": {
      "text/plain": [
       "10"
      ]
     },
     "execution_count": 53,
     "metadata": {},
     "output_type": "execute_result"
    }
   ],
   "source": [
    "x=5\n",
    "x.__add__(5)"
   ]
  },
  {
   "cell_type": "code",
   "execution_count": 59,
   "metadata": {},
   "outputs": [
    {
     "name": "stdout",
     "output_type": "stream",
     "text": [
      "96 Stats\n"
     ]
    }
   ],
   "source": [
    "class test:\n",
    "    pass\n",
    "a=test()\n",
    "a.marks=96\n",
    "a.sub=\"Stats\"\n",
    "print(a.marks, a.sub)"
   ]
  }
 ],
 "metadata": {
  "kernelspec": {
   "display_name": "Python 3",
   "language": "python",
   "name": "python3"
  },
  "language_info": {
   "codemirror_mode": {
    "name": "ipython",
    "version": 3
   },
   "file_extension": ".py",
   "mimetype": "text/x-python",
   "name": "python",
   "nbconvert_exporter": "python",
   "pygments_lexer": "ipython3",
   "version": "3.7.0"
  }
 },
 "nbformat": 4,
 "nbformat_minor": 2
}
