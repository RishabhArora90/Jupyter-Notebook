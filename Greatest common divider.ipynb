{
 "cells": [
  {
   "cell_type": "code",
   "execution_count": 14,
   "metadata": {},
   "outputs": [
    {
     "data": {
      "text/plain": [
       "48"
      ]
     },
     "execution_count": 14,
     "metadata": {},
     "output_type": "execute_result"
    }
   ],
   "source": [
    "def gcd(num1, num2):\n",
    "    if num1<num2:\n",
    "        min=num1 \n",
    "    else:\n",
    "        min=num2\n",
    "    largest=1\n",
    "    for i in range(1, min+1):\n",
    "        if num1%i==0 and num2%i==0:\n",
    "            largest=i\n",
    "    return largest\n",
    "\n",
    "gcd(48,96)\n",
    "        "
   ]
  },
  {
   "cell_type": "code",
   "execution_count": null,
   "metadata": {
    "scrolled": true
   },
   "outputs": [],
   "source": [
    "from math import *\n",
    "is_prime(5)\n",
    "    "
   ]
  },
  {
   "cell_type": "code",
   "execution_count": 19,
   "metadata": {},
   "outputs": [],
   "source": [
    "from math import fabs\n",
    "def equals(a, b, tolerance):\n",
    "    return a==b or fabs(a-b)<tolerance;\n",
    "\n",
    "def main():\n",
    "    i=1.0\n",
    "    while not equals(i,1.0, 0.0001):\n",
    "      print(\"i=\",i)\n",
    "      i+=1\n",
    "main()"
   ]
  }
 ],
 "metadata": {
  "kernelspec": {
   "display_name": "Python 3",
   "language": "python",
   "name": "python3"
  },
  "language_info": {
   "codemirror_mode": {
    "name": "ipython",
    "version": 3
   },
   "file_extension": ".py",
   "mimetype": "text/x-python",
   "name": "python",
   "nbconvert_exporter": "python",
   "pygments_lexer": "ipython3",
   "version": "3.7.0"
  }
 },
 "nbformat": 4,
 "nbformat_minor": 2
}
