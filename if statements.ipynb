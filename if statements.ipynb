{
 "cells": [
  {
   "cell_type": "code",
   "execution_count": 1,
   "metadata": {},
   "outputs": [
    {
     "name": "stdout",
     "output_type": "stream",
     "text": [
      "enter number6\n",
      "out of range\n"
     ]
    }
   ],
   "source": [
    "num= eval(input(\"enter number\"))\n",
    "if num>10 and num<=0:\n",
    "      print(\"in range \")\n",
    "print(\"out of range\")"
   ]
  },
  {
   "cell_type": "code",
   "execution_count": null,
   "metadata": {},
   "outputs": [],
   "source": [
    "num= eval(input(\"enter number\"))\n",
    "if num>10:\n",
    "      print(\" larger number\")\n",
    "        else:\n",
    "            if num <0:\n",
    "            print(\"smaller num\")\n",
    "            else:\n",
    "            print(\" in range\")\n",
    "print(\"Done\")"
   ]
  },
  {
   "cell_type": "code",
   "execution_count": null,
   "metadata": {},
   "outputs": [],
   "source": [
    "num= eval(input(\"enter number\"))\n",
    "if num == 0:\n",
    "print(\"zero\")\n",
    "       else:\n",
    "    if num == 1:\n",
    "         print(\"one\")\n",
    "print(\"number doesnt match\")"
   ]
  },
  {
   "cell_type": "code",
   "execution_count": null,
   "metadata": {},
   "outputs": [],
   "source": []
  },
  {
   "cell_type": "code",
   "execution_count": null,
   "metadata": {},
   "outputs": [],
   "source": []
  }
 ],
 "metadata": {
  "kernelspec": {
   "display_name": "Python 3",
   "language": "python",
   "name": "python3"
  },
  "language_info": {
   "codemirror_mode": {
    "name": "ipython",
    "version": 3
   },
   "file_extension": ".py",
   "mimetype": "text/x-python",
   "name": "python",
   "nbconvert_exporter": "python",
   "pygments_lexer": "ipython3",
   "version": "3.7.0"
  }
 },
 "nbformat": 4,
 "nbformat_minor": 2
}
